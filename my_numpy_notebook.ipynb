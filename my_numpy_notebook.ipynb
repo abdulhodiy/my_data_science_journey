{
 "cells": [
  {
   "cell_type": "code",
   "execution_count": 2,
   "id": "3437be8d",
   "metadata": {},
   "outputs": [],
   "source": [
    "import numpy as np                "
   ]
  },
  {
   "cell_type": "code",
   "execution_count": 3,
   "id": "4e264d80",
   "metadata": {},
   "outputs": [
    {
     "name": "stdout",
     "output_type": "stream",
     "text": [
      "Requirement already satisfied: pandas in c:\\programdata\\anaconda3\\lib\\site-packages (1.3.4)\n",
      "Requirement already satisfied: python-dateutil>=2.7.3 in c:\\programdata\\anaconda3\\lib\\site-packages (from pandas) (2.8.2)\n",
      "Requirement already satisfied: numpy>=1.17.3 in c:\\programdata\\anaconda3\\lib\\site-packages (from pandas) (1.20.3)\n",
      "Requirement already satisfied: pytz>=2017.3 in c:\\programdata\\anaconda3\\lib\\site-packages (from pandas) (2021.3)\n",
      "Requirement already satisfied: six>=1.5 in c:\\programdata\\anaconda3\\lib\\site-packages (from python-dateutil>=2.7.3->pandas) (1.16.0)\n",
      "Note: you may need to restart the kernel to use updated packages.\n"
     ]
    }
   ],
   "source": [
    "pip install pandas"
   ]
  },
  {
   "cell_type": "code",
   "execution_count": 129,
   "id": "9cbc8141",
   "metadata": {},
   "outputs": [
    {
     "data": {
      "text/plain": [
       "array(['a', 't', 'c', '52', '7'], dtype='<U11')"
      ]
     },
     "execution_count": 129,
     "metadata": {},
     "output_type": "execute_result"
    }
   ],
   "source": [
    "my_array = np.array([\"a\", \"t\", \"c\",52, '7'])\n",
    "my_array"
   ]
  },
  {
   "cell_type": "code",
   "execution_count": 119,
   "id": "eb034ec4",
   "metadata": {},
   "outputs": [],
   "source": [
    "my_array2 = np.array([[1, 2, 3], [5, 6, 7]])"
   ]
  },
  {
   "cell_type": "code",
   "execution_count": 50,
   "id": "09d55eaa",
   "metadata": {},
   "outputs": [
    {
     "data": {
      "text/plain": [
       "dtype('int32')"
      ]
     },
     "execution_count": 50,
     "metadata": {},
     "output_type": "execute_result"
    }
   ],
   "source": [
    "my_array2.dtype"
   ]
  },
  {
   "cell_type": "code",
   "execution_count": 17,
   "id": "f9ce231c",
   "metadata": {},
   "outputs": [
    {
     "data": {
      "text/plain": [
       "array([[ 2,  4,  6],\n",
       "       [10, 12, 14]])"
      ]
     },
     "execution_count": 17,
     "metadata": {},
     "output_type": "execute_result"
    }
   ],
   "source": [
    "my_array2*2"
   ]
  },
  {
   "cell_type": "code",
   "execution_count": 18,
   "id": "fe708e0b",
   "metadata": {},
   "outputs": [],
   "source": [
    "my_array3 = np.array([[2, 5, 7], [9, 3, 5]])"
   ]
  },
  {
   "cell_type": "code",
   "execution_count": 19,
   "id": "4dd0ec98",
   "metadata": {},
   "outputs": [
    {
     "data": {
      "text/plain": [
       "array([[ 2, 10, 21],\n",
       "       [45, 18, 35]])"
      ]
     },
     "execution_count": 19,
     "metadata": {},
     "output_type": "execute_result"
    }
   ],
   "source": [
    "my_array2*my_array3"
   ]
  },
  {
   "cell_type": "code",
   "execution_count": null,
   "id": "f7c40938",
   "metadata": {},
   "outputs": [],
   "source": []
  },
  {
   "cell_type": "code",
   "execution_count": 74,
   "id": "d13c3696",
   "metadata": {},
   "outputs": [
    {
     "data": {
      "text/plain": [
       "array([ 1. ,  5.5, 10. ])"
      ]
     },
     "execution_count": 74,
     "metadata": {},
     "output_type": "execute_result"
    }
   ],
   "source": [
    "np.linspace(1,10,3)"
   ]
  },
  {
   "cell_type": "code",
   "execution_count": 75,
   "id": "59f5ef01",
   "metadata": {},
   "outputs": [
    {
     "data": {
      "text/plain": [
       "array([1, 4, 7])"
      ]
     },
     "execution_count": 75,
     "metadata": {},
     "output_type": "execute_result"
    }
   ],
   "source": [
    "np.arange(1, 10, 3)"
   ]
  },
  {
   "cell_type": "code",
   "execution_count": 73,
   "id": "5577e73f",
   "metadata": {},
   "outputs": [
    {
     "data": {
      "text/plain": [
       "array(['1.0', '5.5', '10.0'], dtype='<U32')"
      ]
     },
     "execution_count": 73,
     "metadata": {},
     "output_type": "execute_result"
    }
   ],
   "source": []
  },
  {
   "cell_type": "code",
   "execution_count": 76,
   "id": "957834a5",
   "metadata": {},
   "outputs": [
    {
     "data": {
      "text/plain": [
       "(2, 3)"
      ]
     },
     "execution_count": 76,
     "metadata": {},
     "output_type": "execute_result"
    }
   ],
   "source": [
    "my_array3.shape"
   ]
  },
  {
   "cell_type": "code",
   "execution_count": 78,
   "id": "86ef1c2f",
   "metadata": {},
   "outputs": [
    {
     "data": {
      "text/plain": [
       "array([[2, 5, 7],\n",
       "       [9, 3, 5]])"
      ]
     },
     "execution_count": 78,
     "metadata": {},
     "output_type": "execute_result"
    }
   ],
   "source": [
    "my_array3"
   ]
  },
  {
   "cell_type": "code",
   "execution_count": 80,
   "id": "10d6266c",
   "metadata": {},
   "outputs": [
    {
     "ename": "ValueError",
     "evalue": "cannot reshape array of size 6 into shape (2,2)",
     "output_type": "error",
     "traceback": [
      "\u001b[1;31m---------------------------------------------------------------------------\u001b[0m",
      "\u001b[1;31mValueError\u001b[0m                                Traceback (most recent call last)",
      "\u001b[1;32m~\\AppData\\Local\\Temp/ipykernel_19548/821143765.py\u001b[0m in \u001b[0;36m<module>\u001b[1;34m\u001b[0m\n\u001b[1;32m----> 1\u001b[1;33m \u001b[0mmy_array3\u001b[0m\u001b[1;33m.\u001b[0m\u001b[0mreshape\u001b[0m\u001b[1;33m(\u001b[0m\u001b[1;33m(\u001b[0m\u001b[1;36m2\u001b[0m\u001b[1;33m,\u001b[0m \u001b[1;36m2\u001b[0m\u001b[1;33m)\u001b[0m\u001b[1;33m)\u001b[0m\u001b[1;33m\u001b[0m\u001b[1;33m\u001b[0m\u001b[0m\n\u001b[0m",
      "\u001b[1;31mValueError\u001b[0m: cannot reshape array of size 6 into shape (2,2)"
     ]
    }
   ],
   "source": [
    "my_array3.reshape((2, 2))"
   ]
  },
  {
   "cell_type": "code",
   "execution_count": 79,
   "id": "00b666e8",
   "metadata": {},
   "outputs": [
    {
     "data": {
      "text/plain": [
       "array([[2, 9],\n",
       "       [5, 3],\n",
       "       [7, 5]])"
      ]
     },
     "execution_count": 79,
     "metadata": {},
     "output_type": "execute_result"
    }
   ],
   "source": [
    "my_array3.T"
   ]
  },
  {
   "cell_type": "code",
   "execution_count": 91,
   "id": "772c8817",
   "metadata": {},
   "outputs": [],
   "source": [
    "w = np.array([1,4,5., 522])"
   ]
  },
  {
   "cell_type": "code",
   "execution_count": 92,
   "id": "572dfd08",
   "metadata": {},
   "outputs": [
    {
     "data": {
      "text/plain": [
       "dtype('float64')"
      ]
     },
     "execution_count": 92,
     "metadata": {},
     "output_type": "execute_result"
    }
   ],
   "source": [
    "w.dtype"
   ]
  },
  {
   "cell_type": "code",
   "execution_count": 96,
   "id": "f319d786",
   "metadata": {},
   "outputs": [],
   "source": [
    "lrg_array = np.linspace(1, 100, 80, dtype = np.int32)"
   ]
  },
  {
   "cell_type": "code",
   "execution_count": 97,
   "id": "4fcc4f92",
   "metadata": {},
   "outputs": [
    {
     "data": {
      "text/plain": [
       "array([  1,   2,   3,   4,   6,   7,   8,   9,  11,  12,  13,  14,  16,\n",
       "        17,  18,  19,  21,  22,  23,  24,  26,  27,  28,  29,  31,  32,\n",
       "        33,  34,  36,  37,  38,  39,  41,  42,  43,  44,  46,  47,  48,\n",
       "        49,  51,  52,  53,  54,  56,  57,  58,  59,  61,  62,  63,  64,\n",
       "        66,  67,  68,  69,  71,  72,  73,  74,  76,  77,  78,  79,  81,\n",
       "        82,  83,  84,  86,  87,  88,  89,  91,  92,  93,  94,  96,  97,\n",
       "        98, 100])"
      ]
     },
     "execution_count": 97,
     "metadata": {},
     "output_type": "execute_result"
    }
   ],
   "source": [
    "lrg_array"
   ]
  },
  {
   "cell_type": "code",
   "execution_count": 100,
   "id": "e43b656e",
   "metadata": {},
   "outputs": [],
   "source": [
    "lrg_array = lrg_array.reshape(8, 10)"
   ]
  },
  {
   "cell_type": "code",
   "execution_count": 101,
   "id": "9624f182",
   "metadata": {},
   "outputs": [
    {
     "data": {
      "text/plain": [
       "array([[  1,   2,   3,   4,   6,   7,   8,   9,  11,  12],\n",
       "       [ 13,  14,  16,  17,  18,  19,  21,  22,  23,  24],\n",
       "       [ 26,  27,  28,  29,  31,  32,  33,  34,  36,  37],\n",
       "       [ 38,  39,  41,  42,  43,  44,  46,  47,  48,  49],\n",
       "       [ 51,  52,  53,  54,  56,  57,  58,  59,  61,  62],\n",
       "       [ 63,  64,  66,  67,  68,  69,  71,  72,  73,  74],\n",
       "       [ 76,  77,  78,  79,  81,  82,  83,  84,  86,  87],\n",
       "       [ 88,  89,  91,  92,  93,  94,  96,  97,  98, 100]])"
      ]
     },
     "execution_count": 101,
     "metadata": {},
     "output_type": "execute_result"
    }
   ],
   "source": [
    "lrg_array"
   ]
  },
  {
   "cell_type": "code",
   "execution_count": 102,
   "id": "3a4eeade",
   "metadata": {},
   "outputs": [
    {
     "data": {
      "text/plain": [
       "array([[ 14,  16,  17,  18,  19,  21,  22,  23,  24],\n",
       "       [ 27,  28,  29,  31,  32,  33,  34,  36,  37],\n",
       "       [ 39,  41,  42,  43,  44,  46,  47,  48,  49],\n",
       "       [ 52,  53,  54,  56,  57,  58,  59,  61,  62],\n",
       "       [ 64,  66,  67,  68,  69,  71,  72,  73,  74],\n",
       "       [ 77,  78,  79,  81,  82,  83,  84,  86,  87],\n",
       "       [ 89,  91,  92,  93,  94,  96,  97,  98, 100]])"
      ]
     },
     "execution_count": 102,
     "metadata": {},
     "output_type": "execute_result"
    }
   ],
   "source": [
    "lrg_array[1:,1:]"
   ]
  },
  {
   "cell_type": "code",
   "execution_count": 103,
   "id": "9aebad4b",
   "metadata": {},
   "outputs": [
    {
     "data": {
      "text/plain": [
       "array([[ 1,  2,  3],\n",
       "       [13, 14, 16],\n",
       "       [26, 27, 28]])"
      ]
     },
     "execution_count": 103,
     "metadata": {},
     "output_type": "execute_result"
    }
   ],
   "source": [
    "lrg_array[:3, :3]"
   ]
  },
  {
   "cell_type": "code",
   "execution_count": 105,
   "id": "a17200ec",
   "metadata": {},
   "outputs": [
    {
     "data": {
      "text/plain": [
       "array([[ 1,  3,  6,  8, 11],\n",
       "       [13, 16, 18, 21, 23],\n",
       "       [26, 28, 31, 33, 36],\n",
       "       [38, 41, 43, 46, 48],\n",
       "       [51, 53, 56, 58, 61],\n",
       "       [63, 66, 68, 71, 73],\n",
       "       [76, 78, 81, 83, 86],\n",
       "       [88, 91, 93, 96, 98]])"
      ]
     },
     "execution_count": 105,
     "metadata": {},
     "output_type": "execute_result"
    }
   ],
   "source": [
    "lrg_array[:, ::2]"
   ]
  },
  {
   "cell_type": "code",
   "execution_count": 106,
   "id": "9d5b88c4",
   "metadata": {},
   "outputs": [
    {
     "data": {
      "text/plain": [
       "array([[  2,   4,   7,   9,  12],\n",
       "       [ 14,  17,  19,  22,  24],\n",
       "       [ 27,  29,  32,  34,  37],\n",
       "       [ 39,  42,  44,  47,  49],\n",
       "       [ 52,  54,  57,  59,  62],\n",
       "       [ 64,  67,  69,  72,  74],\n",
       "       [ 77,  79,  82,  84,  87],\n",
       "       [ 89,  92,  94,  97, 100]])"
      ]
     },
     "execution_count": 106,
     "metadata": {},
     "output_type": "execute_result"
    }
   ],
   "source": [
    "lrg_array[:, 1::2]"
   ]
  },
  {
   "cell_type": "code",
   "execution_count": 107,
   "id": "349be804",
   "metadata": {},
   "outputs": [],
   "source": [
    "a = lrg_array[:, 1::2]"
   ]
  },
  {
   "cell_type": "code",
   "execution_count": 108,
   "id": "ff46a3a1",
   "metadata": {},
   "outputs": [
    {
     "data": {
      "text/plain": [
       "array([[  2,   4,   7,   9,  12],\n",
       "       [ 14,  17,  19,  22,  24],\n",
       "       [ 27,  29,  32,  34,  37],\n",
       "       [ 39,  42,  44,  47,  49],\n",
       "       [ 52,  54,  57,  59,  62],\n",
       "       [ 64,  67,  69,  72,  74],\n",
       "       [ 77,  79,  82,  84,  87],\n",
       "       [ 89,  92,  94,  97, 100]])"
      ]
     },
     "execution_count": 108,
     "metadata": {},
     "output_type": "execute_result"
    }
   ],
   "source": [
    "a"
   ]
  },
  {
   "cell_type": "code",
   "execution_count": 114,
   "id": "e95cdfd8",
   "metadata": {},
   "outputs": [],
   "source": [
    "a[0] = 0"
   ]
  },
  {
   "cell_type": "code",
   "execution_count": 115,
   "id": "5ad0616f",
   "metadata": {},
   "outputs": [
    {
     "data": {
      "text/plain": [
       "array([[  0,   0,   0,   0,   0],\n",
       "       [  0,   0,   0,   0,   0],\n",
       "       [ 27,  29,  32,  34,  37],\n",
       "       [ 39,  42,  44,  47,  49],\n",
       "       [ 52,  54,  57,  59,  62],\n",
       "       [ 64,  67,  69,  72,  74],\n",
       "       [ 77,  79,  82,  84,  87],\n",
       "       [ 89,  92,  94,  97, 100]])"
      ]
     },
     "execution_count": 115,
     "metadata": {},
     "output_type": "execute_result"
    }
   ],
   "source": [
    "lrg_array[:, 1::2]"
   ]
  },
  {
   "cell_type": "code",
   "execution_count": 116,
   "id": "781d7acd",
   "metadata": {},
   "outputs": [
    {
     "data": {
      "text/plain": [
       "array([[  0,   0,   0,   0,   0],\n",
       "       [  0,   0,   0,   0,   0],\n",
       "       [ 27,  29,  32,  34,  37],\n",
       "       [ 39,  42,  44,  47,  49],\n",
       "       [ 52,  54,  57,  59,  62],\n",
       "       [ 64,  67,  69,  72,  74],\n",
       "       [ 77,  79,  82,  84,  87],\n",
       "       [ 89,  92,  94,  97, 100]])"
      ]
     },
     "execution_count": 116,
     "metadata": {},
     "output_type": "execute_result"
    }
   ],
   "source": [
    "lrg_array[:, 1::2]"
   ]
  },
  {
   "cell_type": "code",
   "execution_count": 130,
   "id": "4dc73e01",
   "metadata": {},
   "outputs": [
    {
     "data": {
      "text/plain": [
       "array([[  1,   0,   3,   0,   6,   0,   8,   0,  11,   0],\n",
       "       [ 13,   0,  16,   0,  18,   0,  21,   0,  23,   0],\n",
       "       [ 26,  27,  28,  29,  31,  32,  33,  34,  36,  37],\n",
       "       [ 38,  39,  41,  42,  43,  44,  46,  47,  48,  49],\n",
       "       [ 51,  52,  53,  54,  56,  57,  58,  59,  61,  62],\n",
       "       [ 63,  64,  66,  67,  68,  69,  71,  72,  73,  74],\n",
       "       [ 76,  77,  78,  79,  81,  82,  83,  84,  86,  87],\n",
       "       [ 88,  89,  91,  92,  93,  94,  96,  97,  98, 100]])"
      ]
     },
     "execution_count": 130,
     "metadata": {},
     "output_type": "execute_result"
    }
   ],
   "source": [
    "lrg_array"
   ]
  },
  {
   "cell_type": "code",
   "execution_count": 131,
   "id": "50626c73",
   "metadata": {},
   "outputs": [
    {
     "data": {
      "text/plain": [
       "array([ 21,  23,  26,  27,  28,  29,  31,  32,  33,  34,  36,  37,  38,\n",
       "        39,  41,  42,  43,  44,  46,  47,  48,  49,  51,  52,  53,  54,\n",
       "        56,  57,  58,  59,  61,  62,  63,  64,  66,  67,  68,  69,  71,\n",
       "        72,  73,  74,  76,  77,  78,  79,  81,  82,  83,  84,  86,  87,\n",
       "        88,  89,  91,  92,  93,  94,  96,  97,  98, 100])"
      ]
     },
     "execution_count": 131,
     "metadata": {},
     "output_type": "execute_result"
    }
   ],
   "source": [
    "lrg_array[lrg_array > 20]"
   ]
  },
  {
   "cell_type": "code",
   "execution_count": 132,
   "id": "27174a88",
   "metadata": {},
   "outputs": [
    {
     "data": {
      "text/plain": [
       "array([[False, False, False, False, False, False, False, False, False,\n",
       "        False],\n",
       "       [False, False, False, False, False, False,  True, False,  True,\n",
       "        False],\n",
       "       [ True,  True,  True,  True,  True,  True,  True,  True,  True,\n",
       "         True],\n",
       "       [ True,  True,  True,  True,  True,  True,  True,  True,  True,\n",
       "         True],\n",
       "       [ True,  True,  True,  True,  True,  True,  True,  True,  True,\n",
       "         True],\n",
       "       [ True,  True,  True,  True,  True,  True,  True,  True,  True,\n",
       "         True],\n",
       "       [ True,  True,  True,  True,  True,  True,  True,  True,  True,\n",
       "         True],\n",
       "       [ True,  True,  True,  True,  True,  True,  True,  True,  True,\n",
       "         True]])"
      ]
     },
     "execution_count": 132,
     "metadata": {},
     "output_type": "execute_result"
    }
   ],
   "source": [
    "lrg_array > 20"
   ]
  },
  {
   "cell_type": "code",
   "execution_count": null,
   "id": "0b02ec47",
   "metadata": {},
   "outputs": [],
   "source": []
  }
 ],
 "metadata": {
  "kernelspec": {
   "display_name": "Python 3 (ipykernel)",
   "language": "python",
   "name": "python3"
  },
  "language_info": {
   "codemirror_mode": {
    "name": "ipython",
    "version": 3
   },
   "file_extension": ".py",
   "mimetype": "text/x-python",
   "name": "python",
   "nbconvert_exporter": "python",
   "pygments_lexer": "ipython3",
   "version": "3.9.7"
  }
 },
 "nbformat": 4,
 "nbformat_minor": 5
}
